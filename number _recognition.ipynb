{
  "metadata": {
    "language_info": {
      "name": ""
    },
    "kernelspec": {
      "name": "python",
      "display_name": "Python (Pyodide)",
      "language": "python"
    }
  },
  "nbformat_minor": 4,
  "nbformat": 4,
  "cells": [
    {
      "cell_type": "code",
      "source": "import os\nimport cv2\nimport numpy as np\nimport matplotlib.pyplot as plt\nimport tensorflow as tf\n\nmnist=tf.keras.datasets.mnist\n(x_train,y_train),(x_test,y_test)=mnist.load_data()\n\nx_train=tf.keras.utils.normalize(x_train,axis=1)\nx_test=tf.keras.utils.normalize(x_test,axis=1)\n\nmodel=tf.keras.models.Sequential()\nmodel.add(tf.keras.layers.Flatten(input_shape=(28,28)))\nmodel.add(tf.keras.layers.Dense(128,activation='relu'))\nmodel.add(tf.keras.layers.Dense(128,activation='relu'))\nmodel.add(tf.keras.layers.Dense(10,activation='softmax'))\n\nmodel.compile(optimizer='adam',loss='sparse_categorical_crossentropy',metrics=['accuracy'])\n\nmodel.fit(x_train,y_train,epochs=3)\n\nmodel.save('handwritten.model')\n\nmodel=tf.keras.models.load_model('handwritten.model')\n#loss,accuracy=model.evaluate(x_test,y_test)\n\n#print(loss)\n#print(accuracy)\n\nimage_number=1\nwhile os.path.isfile(f\"digits/digit{image_number}.png\"):\n  try:\n    img=cv2.imread(f\"digits/digit{image_number}.png\")[:,:,0]\n    img=np.invert(np.array([img]))\n    prediction=model.predict(img)\n    print(f\"This digit is probably a{np.argmax(predictions)}\")\n    plt.imshow(img[0],cmap=plt.cm.binary)\n    plt.show()\n  except:\n    print(\"Error!\")\n  finally:\n    image_number+=1import os\nimport cv2\nimport numpy as np\nimport matplotlib.pyplot as plt\nimport tensorflow as tf\n\nmnist=tf.keras.datasets.mnist\n(x_train,y_train),(x_test,y_test)=mnist.load_data()\n\nx_train=tf.keras.utils.normalize(x_train,axis=1)\nx_test=tf.keras.utils.normalizimport os\nimport cv2\nimport numpy as np\nimport matplotlib.pyplot as plt\nimport tensorflow as tf\n\nmnist=tf.keras.datasets.mnist\n(x_train,y_train),(x_test,y_test)=mnist.load_data()\n\nx_train=tf.keras.utils.normalize(x_train,axis=1)\nx_test=tf.keras.utils.normalize(x_test,axis=1)\n\nmodel=tf.keras.models.Sequential()\nmodel.add(tf.keras.layers.Flatten(input_shape=(28,28)))\nmodel.add(tf.keras.layers.Dense(128,activation='relu'))\nmodel.add(tf.keras.layers.Dense(128,activation='relu'))\nmodel.add(tf.keras.layers.Dense(10,activation='softmax'))\n\nmodel.compile(optimizer='adam',loss='sparse_categorical_crossentropy',metrics=['accuracy'])\n\nmodel.fit(x_train,y_train,epochs=3)\n\nmodel.save('handwritten.model')\n\nmodel=tf.keras.models.load_model('handwritten.model')\n#loss,accuracy=model.evaluate(x_test,y_test)\n\n#print(loss)\n#print(accuracy)\n\nimage_number=1\nwhile os.path.isfile(f\"digits/digit{image_number}.png\"):\n  try:\n    img=cv2.imread(f\"digits/digit{image_number}.png\")[:,:,0]\n    img=np.invert(np.array([img]))\n    prediction=model.predict(img)\n    print(f\"This digit is probably a{np.argmax(predictions)}\")\n    plt.imshow(img[0],cmap=plt.cm.binary)\n    plt.show()\n  except:\n    print(\"Error!\")\n  finally:\n    image_number+=1e(x_test,axis=1)\n\n",
      "metadata": {
        "trusted": true
      },
      "execution_count": null,
      "outputs": []
    }
  ]
}
